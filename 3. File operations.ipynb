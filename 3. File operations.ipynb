{
 "cells": [
  {
   "cell_type": "markdown",
   "metadata": {},
   "source": [
    "# Filesystem and Data I/O"
   ]
  },
  {
   "cell_type": "markdown",
   "metadata": {},
   "source": [
    "## Filesystem"
   ]
  },
  {
   "cell_type": "code",
   "execution_count": null,
   "metadata": {
    "collapsed": false
   },
   "outputs": [],
   "source": [
    "# Get working directory\n",
    "pwd()"
   ]
  },
  {
   "cell_type": "code",
   "execution_count": null,
   "metadata": {
    "collapsed": false
   },
   "outputs": [],
   "source": [
    "# Get files and directories in current directory\n",
    "readdir()"
   ]
  },
  {
   "cell_type": "code",
   "execution_count": null,
   "metadata": {
    "collapsed": false
   },
   "outputs": [],
   "source": [
    "# Get home directory\n",
    "ENV[\"HOME\"]"
   ]
  },
  {
   "cell_type": "code",
   "execution_count": null,
   "metadata": {
    "collapsed": false
   },
   "outputs": [],
   "source": [
    "# Another way of getting the home directory\n",
    "homedir()"
   ]
  },
  {
   "cell_type": "code",
   "execution_count": null,
   "metadata": {
    "collapsed": false
   },
   "outputs": [],
   "source": [
    "# Create a string holding the full path to ~/tmp/julia\n",
    "JULIATMPDIR = joinpath(homedir(), \"tmp/julia\")"
   ]
  },
  {
   "cell_type": "code",
   "execution_count": null,
   "metadata": {
    "collapsed": false
   },
   "outputs": [],
   "source": [
    "# If ~/tmp/julia directory doesn't exist, then create it\n",
    "if !isdir(JULIATMPDIR)\n",
    "  mkpath(JULIATMPDIR)\n",
    "end"
   ]
  },
  {
   "cell_type": "code",
   "execution_count": null,
   "metadata": {
    "collapsed": false
   },
   "outputs": [],
   "source": [
    "# Create the directory ~/tmp/julia/dir01/dir02\n",
    "mkpath(joinpath(JULIATMPDIR, \"dir01/dir02\"))"
   ]
  },
  {
   "cell_type": "code",
   "execution_count": null,
   "metadata": {
    "collapsed": false
   },
   "outputs": [],
   "source": [
    "# Delete the directory ~/tmp/julia/dir01/dir02\n",
    "rm(joinpath(JULIATMPDIR, \"dir01\"), recursive=true)"
   ]
  },
  {
   "cell_type": "markdown",
   "metadata": {},
   "source": [
    "## Data I/O"
   ]
  },
  {
   "cell_type": "markdown",
   "metadata": {},
   "source": [
    "### Example 01-10-01: write (and read) a vector to (and from) a file"
   ]
  },
  {
   "cell_type": "code",
   "execution_count": null,
   "metadata": {
    "collapsed": false
   },
   "outputs": [],
   "source": [
    "# Define a vector\n",
    "x = [2.5, 3.0, 1.0]\n",
    "\n",
    "# Create a string holding the full path to ~/tmp/julia\n",
    "JULIATMPDIR = joinpath(homedir(), \"tmp/julia\")\n",
    "\n",
    "# If ~/tmp/julia directory doesn't exist, then create it\n",
    "if !isdir(JULIATMPDIR)\n",
    "  mkpath(JULIATMPDIR)\n",
    "end\n",
    "\n",
    "# Create a string holding the filename on which to operate\n",
    "DATAFILE = joinpath(JULIATMPDIR, \"out01.txt\")\n",
    "\n",
    "# Write x to one-column DATAFILE\n",
    "writedlm(DATAFILE, x)\n",
    "\n",
    "# Read one-column DATAFILE into vector y\n",
    "y = readdlm(DATAFILE, ' ')"
   ]
  },
  {
   "cell_type": "markdown",
   "metadata": {
    "collapsed": true
   },
   "source": [
    "### Example : write (and read) a vector to (and from) a file line by line"
   ]
  },
  {
   "cell_type": "code",
   "execution_count": null,
   "metadata": {
    "collapsed": false
   },
   "outputs": [],
   "source": [
    "# Define a vector\n",
    "x = [2.5, 3.0, 1.0]\n",
    "\n",
    "# Create a string holding the full path to ~/tmp/julia\n",
    "JULIATMPDIR = joinpath(homedir(), \"tmp/julia\")\n",
    "\n",
    "# If ~/tmp/julia directory doesn't exist, then create it\n",
    "if !isdir(JULIATMPDIR)\n",
    "  mkpath(JULIATMPDIR)\n",
    "end\n",
    "\n",
    "# Create a string holding the filename on which to operate\n",
    "DATAFILE = joinpath(JULIATMPDIR, \"out02.txt\")\n",
    "\n",
    "# Write x to one-column DATAFILE line by line\n",
    "outstream = open(DATAFILE, \"w+\")\n",
    "\n",
    "for i = 1:length(x)\n",
    "  write(outstream, string(x[i], \"\\n\"))\n",
    "end\n",
    "\n",
    "close(outstream)\n",
    "\n",
    "# Read one-column DATAFILE line by line into vector y\n",
    "instream = open(DATAFILE, \"r\")\n",
    "\n",
    "y = Array(Float64, countlines(DATAFILE))\n",
    "i = 0\n",
    "\n",
    "while !eof(instream)\n",
    "    y[i+=1] = parse(Float64, readline(instream))\n",
    "end\n",
    "\n",
    "close(instream)\n",
    "\n",
    "y"
   ]
  },
  {
   "cell_type": "markdown",
   "metadata": {
    "collapsed": true
   },
   "source": [
    "### Example : write (and read) a matrix to (and from) a file"
   ]
  },
  {
   "cell_type": "code",
   "execution_count": null,
   "metadata": {
    "collapsed": false
   },
   "outputs": [],
   "source": [
    "# Define a matrix\n",
    "A = [2.5 7.1; 3.0 4.4; 1.0 5.3]\n",
    "\n",
    "# Create a string holding the full path to ~/tmp/julia\n",
    "JULIATMPDIR = joinpath(homedir(), \"tmp/julia\")\n",
    "\n",
    "# If ~/tmp/julia directory doesn't exist, then create it\n",
    "if !isdir(JULIATMPDIR)\n",
    "  mkpath(JULIATMPDIR)\n",
    "end\n",
    "\n",
    "# Create a string holding the filename on which to operate\n",
    "DATAFILE = joinpath(JULIATMPDIR, \"out03.txt\")\n",
    "\n",
    "# Write A to comma-delimited DATAFILE using writecsv() function\n",
    "writecsv(DATAFILE, A)\n",
    "\n",
    "# Read comma-delimited DATAFILE into matrix B using writecsv() function\n",
    "B = readcsv(DATAFILE)"
   ]
  },
  {
   "cell_type": "markdown",
   "metadata": {
    "collapsed": true
   },
   "source": [
    "### Example: write (and read) a matrix to (and from) a file line by line"
   ]
  },
  {
   "cell_type": "code",
   "execution_count": null,
   "metadata": {
    "collapsed": false
   },
   "outputs": [],
   "source": [
    "A = [2.5 7.1; 3.0 4.4; 1.0 5.3]\n",
    "\n",
    "# Create a string holding the full path to ~/tmp/julia\n",
    "JULIATMPDIR = joinpath(homedir(), \"tmp/julia\")\n",
    "\n",
    "# If ~/tmp/julia directory doesn't exist, then create it\n",
    "if !isdir(JULIATMPDIR)\n",
    "  mkpath(JULIATMPDIR)\n",
    "end\n",
    "\n",
    "# Create a string holding the filename on which to operate\n",
    "DATAFILE = joinpath(JULIATMPDIR, \"out04.txt\")\n",
    "\n",
    "# Write A to comma-delimited DATAFILE line by line\n",
    "outstream = open(DATAFILE, \"w+\")\n",
    "\n",
    "for i = 1:size(A, 1)\n",
    "  write(outstream, string(join(A[i, :], \",\"), \"\\n\"))\n",
    "end\n",
    "\n",
    "close(outstream)\n",
    "\n",
    "# Read comma-delimited DATAFILE line by line into matrix B\n",
    "instream = open(DATAFILE, \"r\")\n",
    "\n",
    "nrows = countlines(DATAFILE)\n",
    "\n",
    "mark(instream)\n",
    "ncols = length(split(readline(instream), \",\"))\n",
    "reset(instream)\n",
    "\n",
    "B = Array(Float64, nrows, ncols)\n",
    "i = 0\n",
    "\n",
    "while !eof(instream)\n",
    "  B[i+=1, :] = map(x -> parse(Float64, x), split(readline(instream), \",\"))\n",
    "end\n",
    "\n",
    "close(instream)\n",
    "\n",
    "B"
   ]
  },
  {
   "cell_type": "code",
   "execution_count": null,
   "metadata": {
    "collapsed": true
   },
   "outputs": [],
   "source": []
  }
 ],
 "metadata": {
  "anaconda-cloud": {},
  "kernelspec": {
   "display_name": "Julia 0.5.1-pre",
   "language": "julia",
   "name": "julia-0.5"
  },
  "language_info": {
   "file_extension": ".jl",
   "mimetype": "application/julia",
   "name": "julia",
   "version": "0.5.1"
  }
 },
 "nbformat": 4,
 "nbformat_minor": 0
}
