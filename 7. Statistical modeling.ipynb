{
 "cells": [
  {
   "cell_type": "markdown",
   "metadata": {
    "deletable": true,
    "editable": true
   },
   "source": [
    "## Statistical modeling\n",
    "\n",
    "For this example, we'll use the Wisconsin Diagonistic Breast Cancer (WDBC) dataset,\n",
    "which can be retrieved from the University of California at Irvine Machine Learning\n",
    "Repository: https://archive.ics.uci.edu/ml/machine-learning-databases/breast-cancer-wisconsin/.\n",
    "Download the file called `wdbc.data` and save it somewhere convenient.\n",
    "\n",
    "The WDBC dataset consists of 569 observations of 32 variables.\n",
    "The first column is the patient ID, second is the diagnosis (\"M\" for malignant,\n",
    "\"B\" for benign).\n",
    "The remaining columns are various measurements of the patients' tumors as determined\n",
    "by imaging.\n",
    "Today we'll only consider the first 12 variables:\n",
    "\n",
    "* Patient ID\n",
    "* Diagnosis\n",
    "* Tumor radius\n",
    "* Texture (standard deviation of the grayscale values in the image)\n",
    "* Perimeter\n",
    "* Area\n",
    "* Smoothness (local variation in radii)\n",
    "* Compactness (perimeter<sup>2</sup> / area - 1)\n",
    "* Concavity (severity of concave portions of the contour)\n",
    "* Number of concave points\n",
    "* Symmetry\n",
    "* Fractal dimension (coastline approximation - 1)\n",
    "\n",
    "### Getting started\n",
    "\n",
    "First we have to load the DataFrames, GLM, and Gadfly packages.\n",
    "If you don't already have these installed, you can install them with `Pkg.add`,\n",
    "e.g. `Pkg.add(\"DataFrames\")`.\n",
    "If you're using JuliaPro, these are already installed.\n",
    "Otherwise, Gadfly might take a while to install and compile, so be prepared."
   ]
  },
  {
   "cell_type": "code",
   "execution_count": null,
   "metadata": {
    "collapsed": false,
    "deletable": true,
    "editable": true
   },
   "outputs": [],
   "source": [
    "using DataFrames, GLM, Gadfly"
   ]
  },
  {
   "cell_type": "markdown",
   "metadata": {
    "deletable": true,
    "editable": true
   },
   "source": [
    "### Reading and manipulating data\n",
    "\n",
    "Now read the WDBC dataset into a `DataFrame`.\n",
    "Make sure to modify the path to reflect where you've saved the file."
   ]
  },
  {
   "cell_type": "code",
   "execution_count": null,
   "metadata": {
    "collapsed": false,
    "deletable": true,
    "editable": true
   },
   "outputs": [],
   "source": [
    "wdbc = readtable(\"/Users/alex/Downloads/wdbc.data\", header=false)"
   ]
  },
  {
   "cell_type": "markdown",
   "metadata": {
    "deletable": true,
    "editable": true
   },
   "source": [
    "Now we'll select the columns of interest out of the 32 and give the columns meaningful\n",
    "names.\n",
    "Notice that when we read in the data, the file doesn't have a header to describe the\n",
    "columns, so Julia automatically generates unique column names."
   ]
  },
  {
   "cell_type": "code",
   "execution_count": null,
   "metadata": {
    "collapsed": false,
    "deletable": true,
    "editable": true
   },
   "outputs": [],
   "source": [
    "# Select all rows (:) and columns 1 to 12 (1:12)\n",
    "wdbc = wdbc[:, 1:12]\n",
    "\n",
    "# Modify the dataset in place to apply the names\n",
    "names!(wdbc, [:id, :diagnosis, :radius, :texture, :perimeter, :area, :smooth,\n",
    "              :compact, :concavity, :nconcave, :symmetry, :fracdim])"
   ]
  },
  {
   "cell_type": "markdown",
   "metadata": {
    "deletable": true,
    "editable": true
   },
   "source": [
    "### Fitting a linear regression model\n",
    "\n",
    "Let's look at how to fit an OLS linear regression model.\n",
    "We start by plotting the data using a scatter plot, with tumor area on the\n",
    "x-axis and texture on the y-axis.\n",
    "For this we'll use the Gadfly package, which provides a Grammar of Graphics\n",
    "style of specifying plots."
   ]
  },
  {
   "cell_type": "code",
   "execution_count": null,
   "metadata": {
    "collapsed": false,
    "deletable": true,
    "editable": true
   },
   "outputs": [],
   "source": [
    "plot(wdbc, x=:area, y=:texture, Geom.point)"
   ]
  },
  {
   "cell_type": "markdown",
   "metadata": {
    "deletable": true,
    "editable": true
   },
   "source": [
    "Let's take another look, this time with both axes on the log scale."
   ]
  },
  {
   "cell_type": "code",
   "execution_count": null,
   "metadata": {
    "collapsed": false,
    "deletable": true,
    "editable": true
   },
   "outputs": [],
   "source": [
    "plot(wdbc, x=:area, y=:texture, Geom.point, Scale.x_log, Scale.y_log)"
   ]
  },
  {
   "cell_type": "markdown",
   "metadata": {
    "deletable": true,
    "editable": true
   },
   "source": [
    "Now we'll try fitting a regression model, predicting the logarithm of the\n",
    "tumor texture from the logarithm of the area.\n",
    "First we need to add columns to the dataset corresponding to the transformed\n",
    "variables, then we can apply the `lm` function in a fashion similar to R."
   ]
  },
  {
   "cell_type": "code",
   "execution_count": null,
   "metadata": {
    "collapsed": false,
    "deletable": true,
    "editable": true
   },
   "outputs": [],
   "source": [
    "# Broadcast log over each element in the given column\n",
    "wdbc[:log_texture] = log.(wdbc[:texture])\n",
    "wdbc[:log_area] = log.(wdbc[:area])\n",
    "\n",
    "# Fit an OLS regression model\n",
    "# lm(...) is a synonym for fit(LinearModel, ...)\n",
    "ols = lm(log_texture ~ log_area, wdbc)"
   ]
  },
  {
   "cell_type": "markdown",
   "metadata": {
    "deletable": true,
    "editable": true
   },
   "source": [
    "We can ask for various properties and diagnostics of the model, like *R*<sup>2</sup>, AIC, etc:"
   ]
  },
  {
   "cell_type": "code",
   "execution_count": null,
   "metadata": {
    "collapsed": false,
    "deletable": true,
    "editable": true
   },
   "outputs": [],
   "source": [
    "println(\"R² = \", r²(ols))\n",
    "println(\"AIC = \", aic(ols))"
   ]
  },
  {
   "cell_type": "markdown",
   "metadata": {
    "deletable": true,
    "editable": true
   },
   "source": [
    "To get the superscript 2 at the Julia REPL, in the Juno IDE, or in a Jupyter Notebook,\n",
    "type `\\^2` and hit <kbd>tab</kbd>.\n",
    "The Julia plugin for various editors, e.g. Vim and Emacs, also supports this.\n",
    "\n",
    "We can also look at a plot of the residuals versus the values predicted by the model:"
   ]
  },
  {
   "cell_type": "code",
   "execution_count": null,
   "metadata": {
    "collapsed": false,
    "deletable": true,
    "editable": true
   },
   "outputs": [],
   "source": [
    "plot(x=residuals(ols), y=predict(ols), Geom.point,\n",
    "     Guide.xlabel(\"Residuals\"), Guide.ylabel(\"Predicted Values\"))"
   ]
  },
  {
   "cell_type": "markdown",
   "metadata": {
    "deletable": true,
    "editable": true
   },
   "source": [
    "### Fitting a logistic regression model\n",
    "\n",
    "Now let's take a look at modeling the diagnosis, malignant or benign, based on\n",
    "some of the measurements taken from the imaging.\n",
    "We'll begin by making a simple box plot of the tumor concavity by diagnosis."
   ]
  },
  {
   "cell_type": "code",
   "execution_count": null,
   "metadata": {
    "collapsed": false,
    "deletable": true,
    "editable": true
   },
   "outputs": [],
   "source": [
    "plot(wdbc, x=:diagnosis, y=:concavity, Geom.boxplot)"
   ]
  },
  {
   "cell_type": "markdown",
   "metadata": {
    "deletable": true,
    "editable": true
   },
   "source": [
    "In order to perform logistic regression, we need to properly code our dichotomous\n",
    "response.\n",
    "If we leave the `diagnosis` column as-is, the GLM package won't know which level\n",
    "to use as the reference.\n",
    "To do this, we'll define a new column called `malignant` that contains `Bool` values\n",
    "denoting malignant diagnoses.\n",
    "GLM will use `false` as the reference value and model the probability of malignancy."
   ]
  },
  {
   "cell_type": "code",
   "execution_count": null,
   "metadata": {
    "collapsed": false,
    "deletable": true,
    "editable": true
   },
   "outputs": [],
   "source": [
    "wdbc[:malignant] = wdbc[:diagnosis] .== \"M\""
   ]
  },
  {
   "cell_type": "markdown",
   "metadata": {
    "deletable": true,
    "editable": true
   },
   "source": [
    "Fitting the model is similar to the simple linear regression model; this time\n",
    "we use the `glm` function.\n",
    "To perform logistic regression, we want to tell GLM that the response is binomial\n",
    "and that we want logit as the link function, and we can accomplish that simply\n",
    "by passing in a `Distribution` object from the Distributions package (automatically\n",
    "installed when installing GLM) and a `LogitLink` object.\n",
    "\n",
    "In this example, we'll use concavity as the sole predictor."
   ]
  },
  {
   "cell_type": "code",
   "execution_count": null,
   "metadata": {
    "collapsed": false,
    "deletable": true,
    "editable": true
   },
   "outputs": [],
   "source": [
    "glm(malignant ~ concavity, wdbc, Binomial(), LogitLink())"
   ]
  },
  {
   "cell_type": "markdown",
   "metadata": {
    "deletable": true,
    "editable": true
   },
   "source": [
    "Let's try this again with a more complex model.\n",
    "This time we'll use concavity, log area, log texture, and the interaction of log area\n",
    "and log texture.\n",
    "As in R, model terms are separated by `+`.\n",
    "`*` is available for specifying main effects and interaction in one fell swoop.\n",
    "That is, `y ~ x1 * x2` expands to `y ~ x1 + x2 + x1 & x2`, where `&` denotes interaction.\n",
    "This will be apparent in the formula section of the output Julia provides for models."
   ]
  },
  {
   "cell_type": "code",
   "execution_count": null,
   "metadata": {
    "collapsed": false,
    "deletable": true,
    "editable": true
   },
   "outputs": [],
   "source": [
    "lr = glm(malignant ~ concavity + log_area * log_texture, wdbc, Binomial(), LogitLink())"
   ]
  },
  {
   "cell_type": "markdown",
   "metadata": {},
   "source": [
    "### Working with probability distributions\n",
    "\n",
    "Julia has a very natural, generic interface for working with probability distributions\n",
    "via the Distributions package.\n",
    "Each distribution has its own type, which permits having a core set of basic APIs that\n",
    "can be overloaded for any given distribution.\n",
    "We've already seen an example of this above, where we passed `Binomial()` to `glm`;\n",
    "`Binomial()` creates an object with type `Binomial` using the default parameters.\n",
    "\n",
    "Probability distributions can easily be plotted using Gadfly.\n",
    "As an example, let's plot the PDFs of a bunch of normal distributions, varying only\n",
    "the variance."
   ]
  },
  {
   "cell_type": "code",
   "execution_count": null,
   "metadata": {
    "collapsed": true
   },
   "outputs": [],
   "source": [
    "using Distributions"
   ]
  },
  {
   "cell_type": "code",
   "execution_count": null,
   "metadata": {
    "collapsed": false
   },
   "outputs": [],
   "source": [
    "# Create an array of anonymous functions, where each simply calls the\n",
    "# Normal PDF with a different variance, and plot the lot of them over\n",
    "# the range -10 to 10\n",
    "plot([x -> pdf(Normal(0, v), x) for v in 1:10], -10.0, 10.0)"
   ]
  },
  {
   "cell_type": "markdown",
   "metadata": {},
   "source": [
    "The CDF can also be accessed similarly to the PDF using the aptly named `cdf` function.\n",
    "This makes computing p-values from any distribution quite simple.\n",
    "For example, say we're running an analysis and we get a $\\chi^2$ statistic of 11.5 on\n",
    "5 degrees of freedom.\n",
    "We compute the p-value as"
   ]
  },
  {
   "cell_type": "code",
   "execution_count": null,
   "metadata": {
    "collapsed": false
   },
   "outputs": [],
   "source": [
    "1 - cdf(Chisq(5), 11.5)"
   ]
  },
  {
   "cell_type": "markdown",
   "metadata": {},
   "source": [
    "The p-value is significant at the 0.05 level and you know what that means: time to publish!\n",
    "\n",
    "### Filling in the gaps\n",
    "\n",
    "Sometimes nobody has written the code for a particular hypothesis test or other statistical\n",
    "task yet, and you'll have to write your own.\n",
    "This is typically an enormous pain to do in SAS, and navigating the myriad inconsistencies\n",
    "of the R API can take as much time as actually writing the code.\n",
    "This kind of thing actually plays well to Julia's strengths.\n",
    "\n",
    "To illustrate this, let's implement the Mantel-Haenszel test for linear association in\n",
    "contingency tables with a custom score function.\n",
    "We'll start with a function that computes midrank scores.\n",
    "For each marginal total, we add up the previous ones, then add the current + 1 over 2."
   ]
  },
  {
   "cell_type": "code",
   "execution_count": null,
   "metadata": {
    "collapsed": false
   },
   "outputs": [],
   "source": [
    "function midrank(table::Matrix, dim::Int)\n",
    "    # Compute the marginal totals over dimension dim\n",
    "    totals = sum(table, dim)\n",
    "\n",
    "    # Compute the midrank scores for the margin\n",
    "    s = zeros(length(totals))\n",
    "    @inbounds for i in eachindex(totals)\n",
    "        s[i] = sum(totals[1:i-1]) + (totals[i] + 1) / 2\n",
    "    end\n",
    "\n",
    "    return s\n",
    "end"
   ]
  },
  {
   "cell_type": "markdown",
   "metadata": {},
   "source": [
    "Now we'll define a function to compute the correlation based on a given\n",
    "score function.\n",
    "The correlation is computed as\n",
    "\n",
    "$$\n",
    "r = \\frac{\\sum_i \\sum_j (u_i - \\bar{u}) \\, (v_j - \\bar{v}) \\, n_{ij}}{\\sqrt{\\left[ \\sum_i \\sum_j (u_i - \\bar{u})^2 \\, n_{ij} \\right] \\left[ \\sum_i \\sum_j (v_j - \\bar{v})^2 \\, n_{ij} \\right]}}\n",
    "$$\n",
    "\n",
    "where the *u*<sub>*i*</sub> are the row scores, *v*<sub>*j*</sub> are the column scores,\n",
    "and *n*<sub>*ij*</sub> are the entries in the contingency table."
   ]
  },
  {
   "cell_type": "code",
   "execution_count": null,
   "metadata": {
    "collapsed": false
   },
   "outputs": [],
   "source": [
    "# A custom correlation function that supports multiple kinds of scores\n",
    "# Sums are written as matrix multiplications where applicable\n",
    "\n",
    "function correlation(X::Matrix, score::Symbol=:integer)\n",
    "    if score === :integer\n",
    "        u = collect(1:size(table, 1))\n",
    "        v = collect(1:size(table, 2))\n",
    "    elseif score === :midrank\n",
    "        u = midrank(table, 2)\n",
    "        v = midrank(table, 1)\n",
    "    else\n",
    "        throw(ArgumentError(\"unrecognized scoring method `$score`\"))\n",
    "    end\n",
    "\n",
    "    n = sum(X)\n",
    "    ubar = sum(u'X) / n\n",
    "    vbar = sum(X*v) / n\n",
    "    numer = (u .- ubar)' * X * (v .- vbar)\n",
    "    denom1 = sum(((u .- ubar).^2)'X)\n",
    "    denom2 = sum(X * (v .- vbar).^2)\n",
    "    \n",
    "    # numer is a one-element matrix, so we can unwrap it to get the\n",
    "    # value using first\n",
    "    return first(numer) / sqrt(denom1 * denom2)\n",
    "end"
   ]
  },
  {
   "cell_type": "markdown",
   "metadata": {},
   "source": [
    "The test statistic is computed as\n",
    "\n",
    "$$\n",
    "M^2 = (n - 1) \\, r^2\n",
    "$$\n",
    "\n",
    "where *n* is the total sample size and *r* is the correlation.\n",
    "Under the null, this has an approximate $\\chi^2$ distribution with 1 degree of freedom."
   ]
  },
  {
   "cell_type": "code",
   "execution_count": null,
   "metadata": {
    "collapsed": false
   },
   "outputs": [],
   "source": [
    "# Compute the M² statistic and the p-value\n",
    "\n",
    "function mantelhaenszel(table::Matrix, score::Symbol=:integer)\n",
    "    r = correlation(table, score)\n",
    "    h = (sum(table) - 1) * r^2\n",
    "    return (h, 1 - cdf(Chisq(1), h))\n",
    "end"
   ]
  },
  {
   "cell_type": "markdown",
   "metadata": {},
   "source": [
    "To test our functions, say we have the following contingency table of tonsil\n",
    "enlargement by streptococcus pyogenes carrier status.\n",
    "\n",
    "| Status      | Normal | Slight | Severe |\n",
    "| ----------- |-------:|-------:|-------:|\n",
    "| Carrier     | 19     | 29     | 24     |\n",
    "| Non-carrier | 497    | 560    | 269    |\n",
    "\n",
    "Then we can carry out our tests like so:"
   ]
  },
  {
   "cell_type": "code",
   "execution_count": null,
   "metadata": {
    "collapsed": false
   },
   "outputs": [],
   "source": [
    "table = [ 19  29  24;\n",
    "         497 560 269]\n",
    "\n",
    "for score in (:integer, :midrank)\n",
    "    println(\"Scoring method: $score\")\n",
    "\n",
    "    println(\"Correlation: \", correlation(table, score))\n",
    "\n",
    "    statistic, pvalue = mantelhaenszel(table, score)\n",
    "    println(\"Mantel-Haenszel: \", statistic, \" with p=\", pvalue)\n",
    "\n",
    "    println()\n",
    "end"
   ]
  },
  {
   "cell_type": "markdown",
   "metadata": {
    "deletable": true,
    "editable": true
   },
   "source": [
    "Tasks like these can be surprisingly easy in Julia!\n",
    "\n",
    "### Taking it further\n",
    "\n",
    "For more information on the capabilities of the packages mentioned here,\n",
    "take a look at the documentation:\n",
    "\n",
    "* DataFrames: https://juliastats.github.io/DataFrames.jl/stable/\n",
    "* Gadfly: http://gadflyjl.org/stable/\n",
    "* GLM: https://github.com/JuliaStats/GLM.jl/blob/master/README.md\n",
    "\n",
    "There's also the Discourse forum for asking questions, which includes a\n",
    "tags for statistics, bio, data, visualization, and many more:\n",
    "https://discourse.julialang.org/."
   ]
  },
  {
   "cell_type": "code",
   "execution_count": null,
   "metadata": {
    "collapsed": true,
    "deletable": true,
    "editable": true
   },
   "outputs": [],
   "source": []
  }
 ],
 "metadata": {
  "anaconda-cloud": {},
  "kernelspec": {
   "display_name": "Julia 0.5.1-pre",
   "language": "julia",
   "name": "julia-0.5"
  },
  "language_info": {
   "file_extension": ".jl",
   "mimetype": "application/julia",
   "name": "julia",
   "version": "0.5.1"
  }
 },
 "nbformat": 4,
 "nbformat_minor": 2
}
